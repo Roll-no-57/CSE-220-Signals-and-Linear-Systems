{
 "cells": [
  {
   "metadata": {},
   "cell_type": "markdown",
   "source": [
    "# Introduction\n",
    "- Basics of python\n",
    "\n"
   ],
   "id": "6a0476a2e35b9762"
  },
  {
   "metadata": {},
   "cell_type": "code",
   "source": "print(\"hello world\")",
   "id": "22b928c9ca829dbb",
   "outputs": [],
   "execution_count": null
  },
  {
   "metadata": {},
   "cell_type": "code",
   "source": [
    "# Convert integer to complex\n",
    "d = complex(5)  # d = (5+0j)\n",
    "print(d)"
   ],
   "id": "30db475dbf234518",
   "outputs": [],
   "execution_count": null
  },
  {
   "metadata": {},
   "cell_type": "markdown",
   "source": "### Operators",
   "id": "5424064de303bc57"
  },
  {
   "metadata": {},
   "cell_type": "code",
   "source": [
    "x=1987432\n",
    "s=bin(x)\n",
    "print(s)\n",
    "print(type(s))\n",
    "\n",
    "#floor division\n",
    "x=9.0//2.0\n",
    "print(x)"
   ],
   "id": "e2525038a039e4c3",
   "outputs": [],
   "execution_count": null
  },
  {
   "metadata": {},
   "cell_type": "markdown",
   "source": "# Python Membership Operators",
   "id": "bdb90b8d646cf0b"
  },
  {
   "metadata": {},
   "cell_type": "code",
   "source": [
    "ls=[1,2,3,4,5,6,7,8,9]\n",
    "lx =[10,20,30,40,50,60,70,80,90]\n",
    "print(10 in lx)\n",
    "print(ls in lx)"
   ],
   "id": "8759c6d5afa73191",
   "outputs": [],
   "execution_count": null
  },
  {
   "metadata": {},
   "cell_type": "markdown",
   "source": "# Conditional Statement",
   "id": "f3a415b18b2bd07f"
  },
  {
   "metadata": {},
   "cell_type": "code",
   "source": [
    "x=20\n",
    "if x%2==0:\n",
    "    print(\"exp1 is true\")\n",
    "elif x%3==0:\n",
    "    print(\"exp2 is true\")\n",
    "else:\n",
    "    print(\"exp3 is false\")\n",
    "    \n",
    "# Nested conditonals\n",
    "if x%4==0:\n",
    "    print(\"divisible by 4\")\n",
    "    if x%5==0:\n",
    "        print(\"divisible by 5\")\n",
    "    print(\"I am inside 4\")\n",
    "print(\"I am outside 4\")\n",
    "\n",
    "#Single line if-else\n",
    "x=2\n",
    "if x==1:print(\"x is 1\")\n",
    "elif x==2:print(\"x is 2\")\n",
    "else:print(\"x is no-one\")\n"
   ],
   "id": "23ccc3a6cabdd65d",
   "outputs": [],
   "execution_count": null
  },
  {
   "metadata": {},
   "cell_type": "markdown",
   "source": "# Loops\n",
   "id": "2dc52e79def79d2b"
  },
  {
   "metadata": {},
   "cell_type": "code",
   "source": [
    "x=1\n",
    "while x<3:\n",
    "    print(\"x is even\")\n",
    "    x=x+1\n",
    "    \n",
    "print(x)\n",
    "for i in ls:\n",
    "    print(i,end='')\n",
    "else:print(\"\\nloop finished\")    \n"
   ],
   "id": "893cf31d676a2b51",
   "outputs": [],
   "execution_count": null
  },
  {
   "metadata": {},
   "cell_type": "markdown",
   "source": "## Range",
   "id": "eabdc3d0bcc81b0d"
  },
  {
   "metadata": {},
   "cell_type": "code",
   "source": [
    "print(range(5))\n",
    "print(list(range(5)))\n",
    "\n",
    "ls = [1, 2, 3, 4, 5, 6]  # Example list\n",
    "print(\"Original list:\", ls)\n",
    "\n",
    "for i in range(0,len(ls),2):  # Loop through with a step of 2\n",
    "    ls[i] += 2  # Increment every 2nd element by 2\n",
    "    print(f\"Updated element at index {i}: {ls[i]}\")\n",
    "\n",
    "print(\"Updated list:\", ls)\n",
    "\n",
    "for i in range(5):\n",
    "    if i == 2:\n",
    "        pass  # Do nothing when i equals 2\n",
    "    else:\n",
    "        print(i)\n",
    "\n",
    "\n",
    "    "
   ],
   "id": "dc3d7d3ae64ad625",
   "outputs": [],
   "execution_count": null
  },
  {
   "metadata": {},
   "cell_type": "markdown",
   "source": "# Formatting",
   "id": "68caa5d52d140ef0"
  },
  {
   "metadata": {
    "ExecuteTime": {
     "end_time": "2024-09-13T14:24:19.838223Z",
     "start_time": "2024-09-13T14:24:19.792880Z"
    }
   },
   "cell_type": "code",
   "source": [
    "name = \"Alice\"\n",
    "age = 25\n",
    "\n",
    "info = f\"My name is {name} and my age is {age}\"\n",
    "print(info)\n",
    "\n",
    "# Using an f-string\n",
    "print(f\"My name is {name} and I am {age} years old.\")\n",
    "\n",
    "print(\"My name is {} and I am {} years old.\".format(name, age))\n",
    "print(\"My name is %s and I am %d years old.\" % (name, age))\n"
   ],
   "id": "568efe4c170adae9",
   "outputs": [
    {
     "name": "stdout",
     "output_type": "stream",
     "text": [
      "My name is Alice and my age is 25\n",
      "My name is Alice and I am 25 years old.\n",
      "My name is Alice and I am 25 years old.\n",
      "My name is Alice and I am 25 years old.\n"
     ]
    }
   ],
   "execution_count": 145
  },
  {
   "metadata": {},
   "cell_type": "markdown",
   "source": [
    "# Functions\n",
    "\n",
    "```python\n",
    "def functionname(parameters):\n",
    "    \"function_docstring\"\n",
    "    function_suite\n",
    "    return [expression]\n",
    "```\n"
   ],
   "id": "cffbce687fb8f799"
  },
  {
   "metadata": {},
   "cell_type": "code",
   "source": [
    "# keyword Arguments \n",
    "def printme(str):\n",
    "    \"This prints a passed string into this function\"\n",
    "    print(str)\n",
    "    return\n",
    "printme(str=\"Hello\")\n",
    "\n",
    "def printinfo(name,age):\n",
    "    \"this print a passed name and age\"\n",
    "    print (f\"My name is {name} and I am {age} years old\")\n",
    "    return\n",
    "\n",
    "printinfo(name=\"Alice\", age=25)\n",
    "\n",
    "#Default argument\n",
    "def printdetails(name,age=35):\n",
    "    \"this prints a passed name and default age\"\n",
    "    print(f\"My name is {name} and I am {age} years old\")\n",
    "    return\n",
    "printdetails(name=\"Bob\")\n",
    "\n",
    "#Variable length Arguments\n",
    "def printVarArg(arg1,* vartuple):\n",
    "    \"This prints passed variable arguments\"\n",
    "    print(arg1)\n",
    "    for var in vartuple:\n",
    "        print (var)\n",
    "    return\n",
    "    \n",
    "printVarArg(10)\n",
    "printVarArg(1,2,3,4,5,6)\n",
    "\n",
    "\n",
    "\n"
   ],
   "id": "810c387fa37f39bc",
   "outputs": [],
   "execution_count": null
  },
  {
   "metadata": {},
   "cell_type": "markdown",
   "source": "# Returning Multiple Values\n",
   "id": "73ccfe14e04e1f65"
  },
  {
   "metadata": {},
   "cell_type": "code",
   "source": [
    "def fun():\n",
    "    str = \"geeksforgeeks\"\n",
    "    x = 20\n",
    "    return str,x\n",
    "\n",
    "str,x = fun()\n",
    "print(str,x)\n",
    "print(fun())\n",
    "print(type(fun()))"
   ],
   "id": "e21e3a6ca2547f57",
   "outputs": [],
   "execution_count": null
  },
  {
   "metadata": {},
   "cell_type": "markdown",
   "source": [
    "# Modules\n",
    "```python\n",
    "import <module_name>\n",
    "import <module_name> as <name>\n",
    "from <module_name> import <func>\n",
    "```"
   ],
   "id": "1f2e8935eb32dac7"
  },
  {
   "metadata": {},
   "cell_type": "code",
   "source": [
    "import math as mt\n",
    "\n",
    "# Replace IO with a numeric value\n",
    "a = 16  # Example value\n",
    "print(mt.sqrt(a))\n"
   ],
   "id": "5eaab8cba87646ed",
   "outputs": [],
   "execution_count": null
  }
 ],
 "metadata": {
  "kernelspec": {
   "display_name": "Python 3",
   "language": "python",
   "name": "python3"
  },
  "language_info": {
   "codemirror_mode": {
    "name": "ipython",
    "version": 2
   },
   "file_extension": ".py",
   "mimetype": "text/x-python",
   "name": "python",
   "nbconvert_exporter": "python",
   "pygments_lexer": "ipython2",
   "version": "2.7.6"
  }
 },
 "nbformat": 4,
 "nbformat_minor": 5
}
