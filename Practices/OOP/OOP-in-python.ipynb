{
 "cells": [
  {
   "metadata": {},
   "cell_type": "markdown",
   "source": [
    "# Introduction to OOP in python\n",
    "* Classes"
   ],
   "id": "5a6e18c9c963e7d4"
  },
  {
   "metadata": {
    "ExecuteTime": {
     "end_time": "2024-09-13T15:42:23.598682Z",
     "start_time": "2024-09-13T15:42:23.580633Z"
    }
   },
   "cell_type": "code",
   "source": [
    "class Employee:\n",
    "    count = 0 # class -> attributes\n",
    "    #constructor\n",
    "    def __init__(self, name , age):\n",
    "        self.name = name #object -> attributes\n",
    "        self.age = age\n",
    "        Employee.count += 1 # As it is not defined within the constructor\n",
    "    #every function or method inside a class will take a self parameter as first argument always\n",
    "    def getDetails(self):\n",
    "        return f\"My name is {self.name} and I am {self.age} years old\"\n",
    "    \n",
    "    #dunder string\n",
    "    def __str__(self):\n",
    "        Employee.count += 1;\n",
    "        return f\"My name is {self.name} and I am {self.age} years old\"\n",
    "    def __repr__(self):\n",
    "        return \"This is a mathematical representation\"\n",
    "    \n",
    "alan = Employee(\"Alan Walker\", 30)\n",
    "bob = Employee(\"Bob\", 30)\n",
    "celena = Employee(\"Cellena\", 30)\n",
    "print(alan.getDetails())\n",
    "print(bob)        \n",
    "print(bob.count)\n",
    "alan"
   ],
   "id": "589c8b6f6f27ccb1",
   "outputs": [
    {
     "name": "stdout",
     "output_type": "stream",
     "text": [
      "My name is Alan Walker and I am 30 years old\n",
      "My name is Bob and I am 30 years old\n",
      "4\n"
     ]
    },
    {
     "data": {
      "text/plain": [
       "This is a mathematical representation"
      ]
     },
     "execution_count": 32,
     "metadata": {},
     "output_type": "execute_result"
    }
   ],
   "execution_count": 32
  },
  {
   "metadata": {},
   "cell_type": "markdown",
   "source": "",
   "id": "d8af2973350bbb4"
  }
 ],
 "metadata": {
  "kernelspec": {
   "display_name": "Python 3",
   "language": "python",
   "name": "python3"
  },
  "language_info": {
   "codemirror_mode": {
    "name": "ipython",
    "version": 2
   },
   "file_extension": ".py",
   "mimetype": "text/x-python",
   "name": "python",
   "nbconvert_exporter": "python",
   "pygments_lexer": "ipython2",
   "version": "2.7.6"
  }
 },
 "nbformat": 4,
 "nbformat_minor": 5
}
