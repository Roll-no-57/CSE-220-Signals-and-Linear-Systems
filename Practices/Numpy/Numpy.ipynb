{
 "cells": [
  {
   "metadata": {},
   "cell_type": "markdown",
   "source": "# Numpy Array",
   "id": "cf02175642340453"
  },
  {
   "cell_type": "code",
   "id": "initial_id",
   "metadata": {
    "collapsed": true
   },
   "source": "import numpy as np ",
   "outputs": [],
   "execution_count": null
  },
  {
   "metadata": {},
   "cell_type": "code",
   "source": [
    "#mutable -> can be changed\n",
    "#are not comma separated\n",
    "a = np.array([1,2,3,4,5])\n",
    "b=[1,2,3,4,5]\n",
    "\n",
    "x=a[0:3] #doesn't become a copy of the original array\n",
    "y=b[0:3]#becomes a copy of the original list thats why changes maded in the new y list doesn't affect original b array\n",
    "x[0]=6\n",
    "y[0]=7\n",
    "print(x,y)\n",
    "print(a,b)"
   ],
   "id": "d9b6796685646f3b",
   "outputs": [],
   "execution_count": null
  },
  {
   "metadata": {},
   "cell_type": "code",
   "source": [
    "mat = np.array([[1,2],[3,5]],dtype=np.int64)\n",
    "mat.ndim\n",
    "mat.shape\n",
    "mat.size\n",
    "mat.dtype"
   ],
   "id": "ed285d988c632f0d",
   "outputs": [],
   "execution_count": null
  },
  {
   "metadata": {},
   "cell_type": "markdown",
   "source": "### Numpy Attributes\n",
   "id": "664c494697b01be1"
  },
  {
   "metadata": {},
   "cell_type": "code",
   "source": [
    "a=np.ones(5) # Allocated memory then assigned value 1 to everyone\n",
    "a.dtype\n",
    "a"
   ],
   "id": "fbfad0f0e6ac7378",
   "outputs": [],
   "execution_count": null
  },
  {
   "metadata": {},
   "cell_type": "code",
   "source": [
    "b= np.empty(10) #garbage value: memory allocated only\n",
    "b[0]=600\n",
    "print(b.__str__())\n",
    "print(b.__repr__())"
   ],
   "id": "43901b507113c911",
   "outputs": [],
   "execution_count": null
  },
  {
   "metadata": {},
   "cell_type": "code",
   "source": [
    "a = np.arange(1,11,2) # for(int i=1;i<11;i+=2)\n",
    "print((a))"
   ],
   "id": "a1ce7d4e799373d",
   "outputs": [],
   "execution_count": null
  },
  {
   "metadata": {},
   "cell_type": "code",
   "source": [
    "a= np.linspace(0,1,5,dtype= np.float64)\n",
    "print(a)"
   ],
   "id": "161c7db2932af65",
   "outputs": [],
   "execution_count": null
  },
  {
   "metadata": {},
   "cell_type": "code",
   "source": [
    "a= np.random.random((2,3))\n",
    "a"
   ],
   "id": "56814b37a2dc3f09",
   "outputs": [],
   "execution_count": null
  },
  {
   "metadata": {},
   "cell_type": "code",
   "source": [
    "a = np.random.random(10)\n",
    "print(np.sort(a)) # returns a copy of sorted array\n",
    "print(a)\n",
    "(a.sort()) # sorts the original array\n",
    "print(type(a))"
   ],
   "id": "710cce9c6e341263",
   "outputs": [],
   "execution_count": null
  },
  {
   "metadata": {},
   "cell_type": "code",
   "source": [
    "a=[1,2,3,4,5]\n",
    "b=[5,6,7,8,9]\n",
    "c=a*2+b #concantenates\n",
    "c"
   ],
   "id": "11648ea42d003c3b",
   "outputs": [],
   "execution_count": null
  },
  {
   "metadata": {},
   "cell_type": "code",
   "source": [
    "a=np.array([1,2,3,4,5])\n",
    "b=np.array([5,6,7,8,9])\n",
    "\n",
    "c= np.concatenate((a,b))    \n",
    "c\n"
   ],
   "id": "45971cc2810bb193",
   "outputs": [],
   "execution_count": null
  },
  {
   "metadata": {},
   "cell_type": "code",
   "source": [
    "a=np.array([1,2,3,4,5,70])\n",
    "b=np.array([5,6,7,8,9])\n",
    "\n",
    "c= a.reshape((2,3))\n",
    "c\n",
    "c.T"
   ],
   "id": "bf6edce75b501a3c",
   "outputs": [],
   "execution_count": null
  },
  {
   "metadata": {},
   "cell_type": "code",
   "source": [
    "a=np.array([1,2,3,4,5,70])\n",
    "b=np.array([5,6,7,8,9])\n",
    "\n",
    "# returns a array with true/false\n",
    "#true when the item is greater than 3\n",
    "# false otherwise\n",
    "\n",
    "booleaan_arr =a>3\n",
    "print(booleaan_arr)\n",
    "print(b<3)\n",
    "print(a[[True,True,False,False,True,True]])\n",
    "print(a[booleaan_arr])\n",
    "print(a[(a<10) & (a>3)])\n",
    "\n",
    "# slower\n",
    "y=[]\n",
    "for i in a:\n",
    "    if((i<10) & (i>3)):\n",
    "        y.append(int(i))\n",
    "print(a,y)\n",
    "\n"
   ],
   "id": "bd36b3211c960bdf",
   "outputs": [],
   "execution_count": null
  },
  {
   "metadata": {},
   "cell_type": "code",
   "source": [
    "# Stacking\n",
    "a1 = np.array([[1,1],\n",
    "               [2,2]])\n",
    "a2 = np.array([[3,3],[4,4]])\n",
    "\n",
    "np.vstack((a1,a2))\n",
    "np.hstack((a1,a2))\n"
   ],
   "id": "12f4348d43c1b17d",
   "outputs": [],
   "execution_count": null
  },
  {
   "metadata": {},
   "cell_type": "code",
   "source": [
    "#Splitting\n",
    "x= np.arange(1,25).reshape(2,12)\n",
    "print(x)\n",
    "print(np.hsplit(x,2))\n",
    "\n",
    "\n",
    "# x = np.arange(1, 25).reshape(4, 6)  # 4 rows and 6 columns\n",
    "\n",
    "# Vertical split into 4 sub-arrays\n",
    "vsplit_result = np.vsplit(x, 2)\n",
    "(vsplit_result)\n",
    "\n"
   ],
   "id": "7bad57fb2a741a95",
   "outputs": [],
   "execution_count": null
  },
  {
   "metadata": {},
   "cell_type": "code",
   "source": [
    "a1= np.array([1,2,3,4,5])\n",
    "a2= np.array([5,6,7,8,9])\n",
    "\n",
    "print(a1+a2)\n",
    "print(a1*a2)\n",
    "print(a1*2)"
   ],
   "id": "6775b96b0065a4",
   "outputs": [],
   "execution_count": null
  },
  {
   "metadata": {},
   "cell_type": "code",
   "source": [
    "data= np.array([1.0,2.0,3.0,4.0,5.0,6.0,7.0,8.0,9.0])\n",
    "data*1.6"
   ],
   "id": "46a894cdfe3dd5d1",
   "outputs": [],
   "execution_count": null
  },
  {
   "metadata": {},
   "cell_type": "code",
   "source": [
    "arr = np.arange(25).reshape(5,5)\n",
    "print(arr)\n",
    "print(arr.sum(axis=0))\n",
    "\n",
    "#iteratively\n",
    "\n",
    "split_a = np.split(arr, 5, axis=1)\n",
    "print(split_a)\n",
    "l=np.empty(5)\n",
    "i=0\n",
    "for a in split_a:\n",
    "    l[i] = a.sum()\n",
    "    i+=1\n",
    "print(l)\n"
   ],
   "id": "5a9494d59fce6289",
   "outputs": [],
   "execution_count": null
  },
  {
   "metadata": {},
   "cell_type": "code",
   "source": [
    "a = np.array([[1, 2, 3],\n",
    "              [4, 5, 6],\n",
    "              [7, 8, 9]])\n",
    "# Splitting the array along axis 0 (splitting rows)\n",
    "split_a = np.split(a, 3, axis=0)\n",
    "print(split_a)\n",
    "print(a)\n",
    "# Output: [array([[1, 2, 3]]), array([[4, 5, 6]]), array([[7, 8, 9]])]\n",
    "\n",
    "# Splitting along axis 1 (splitting columns)\n",
    "split_b = np.split(a, 3, axis=1)\n",
    "print(split_b)\n",
    "# Output: [array([[1],\n",
    "#                 [4],\n",
    "#                 [7]]), array([[2],\n",
    "#                               [5],\n",
    "#                               [8]]), array([[3],\n",
    "#                                             [6],\n",
    "#                                             [9]])]\n",
    "type(split_a)"
   ],
   "id": "f706c1f1a61ba9ac",
   "outputs": [],
   "execution_count": null
  },
  {
   "metadata": {},
   "cell_type": "code",
   "source": [
    "x= np.array([1,1,1,3,3,3,5,6,77,8,8,8])\n",
    "sum= np.sum(x, axis=0)\n",
    "unique_val,counts = np.unique(x,return_counts=True)\n",
    "unique_val,counts,sum"
   ],
   "id": "293dd34b5691ab1e",
   "outputs": [],
   "execution_count": null
  },
  {
   "metadata": {},
   "cell_type": "code",
   "source": [
    "\n",
    "# 2D array\n",
    "arr = np.array([[1, 2, 3], [4, 5, 6]])\n",
    "\n",
    "# Using ravel\n",
    "flat_arr = np.ravel(arr,'F')\n",
    "\n",
    "print(flat_arr)  # Output: [1 2 3 4 5 6]\n"
   ],
   "id": "3412aa77ca47c046",
   "outputs": [],
   "execution_count": null
  },
  {
   "metadata": {},
   "cell_type": "code",
   "source": [
    "arr = np.array([[1,3,4],[5,6,7]])\n",
    "arr.reshape(1,6)\n",
    "(arr.ravel()).reshape(-1,2)\n"
   ],
   "id": "1b62d86b9d992ee0",
   "outputs": [],
   "execution_count": null
  },
  {
   "metadata": {},
   "cell_type": "markdown",
   "source": [
    "# Slicing\n",
    "* Slice [start:stop:step]\n",
    "* If step is positive then start < stop\n",
    "* If step is negative then start > stop"
   ],
   "id": "6cf27063a5a28ec0"
  },
  {
   "metadata": {},
   "cell_type": "code",
   "source": [
    "\n",
    "arr = np.array([0, 1, 2, 3, 4, 5, 6, 7, 80, 9])\n",
    "\n",
    "arr.sort()\n",
    "\n",
    "# Slice from index 2 to 5 (excluding 5)\n",
    "print(arr[-1:-10:-1])  # Output: [2 3 4]\n",
    "\n",
    "# Slice from start to index 6\n",
    "print(arr[:6])   # Output: [0 1 2 3 4 5]\n",
    "\n",
    "# Slice from index 4 to end\n",
    "print(arr[4:])   # Output: [4 5 6 7 8 9]\n",
    "\n",
    "# Slice with step 2\n",
    "print(arr[::2])  # Output: [0 2 4 6 8]\n",
    "\n",
    "# Slice in reverse order\n",
    "print(arr[::-1])  # Output: [9 8 7 6 5 4 3 2 1 0]\n"
   ],
   "id": "1752f9a106b52fdf",
   "outputs": [],
   "execution_count": null
  },
  {
   "metadata": {},
   "cell_type": "code",
   "source": [
    "lst = [0, 1, 2, 3, 4, 5, 6, 7, 8, 9]\n",
    "\n",
    "# Slice with negative start and stop, and negative step\n",
    "# Start at index -1 (last element), stop before -6 (6th element from the end)\n",
    "print(lst[-1:-6:-1])  # Output: [9, 8, 7, 6, 5]\n",
    "# Slice with negative start and stop, but a positive step\n",
    "# Start from the -5th element and stop before the -1st element\n",
    "print(lst[-5:-1:1])  # Output: [5, 6, 7, 8]\n",
    "# This won't work because positive steps move right, but the start is left of stop\n",
    "print(lst[-1:-6:1])  # Output: []\n"
   ],
   "id": "82bc420dd6277fa7",
   "outputs": [],
   "execution_count": null
  },
  {
   "metadata": {},
   "cell_type": "code",
   "source": [
    "x=np.array([2,3,5,7,8,9])\n",
    "y=np.array([40,50,60,70,80,90])   \n",
    "\n",
    "result = (1/6)*np.sum((x-y)*(x-y))\n",
    "error = (1/6)*np.sum(np.square(x-y))\n",
    "print(error)\n",
    "result"
   ],
   "id": "4040642dc082c051",
   "outputs": [],
   "execution_count": null
  },
  {
   "metadata": {},
   "cell_type": "code",
   "source": [
    "x=np.array([2,3,5,7,8,9])\n",
    "y=np.array([40,50,60,70,80,90]) \n",
    "\n",
    "result = -(1/6)*np.sum(x*np.log(y))\n",
    "result"
   ],
   "id": "f4138d64e9cd563b",
   "outputs": [],
   "execution_count": null
  },
  {
   "metadata": {},
   "cell_type": "code",
   "source": "x=np.array([2,3,5,7,8,9])\n",
   "id": "ab8470cd361959f9",
   "outputs": [],
   "execution_count": null
  }
 ],
 "metadata": {
  "kernelspec": {
   "display_name": "Python 3",
   "language": "python",
   "name": "python3"
  },
  "language_info": {
   "codemirror_mode": {
    "name": "ipython",
    "version": 2
   },
   "file_extension": ".py",
   "mimetype": "text/x-python",
   "name": "python",
   "nbconvert_exporter": "python",
   "pygments_lexer": "ipython2",
   "version": "2.7.6"
  }
 },
 "nbformat": 4,
 "nbformat_minor": 5
}
